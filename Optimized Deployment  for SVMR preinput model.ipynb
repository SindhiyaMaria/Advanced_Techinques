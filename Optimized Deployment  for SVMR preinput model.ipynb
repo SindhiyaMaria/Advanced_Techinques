{
 "cells": [
  {
   "cell_type": "code",
   "execution_count": 2,
   "id": "42629093-1f9a-474a-8784-a38a569ab093",
   "metadata": {},
   "outputs": [],
   "source": [
    "import pickle\n",
    "import pandas as pd\n",
    "from sklearn.model_selection import train_test_split\n",
    "from sklearn.preprocessing import StandardScaler\n",
    "from sklearn.svm import SVR\n",
    "\n",
    "# Load and preprocess dataset\n",
    "dataset = pd.read_csv(\"50_Startups.csv\")\n",
    "dataset = pd.get_dummies(dataset, drop_first=True)\n",
    "\n",
    "independent = dataset[['R&D Spend', 'Administration', 'Marketing Spend', 'State_Florida', 'State_New York']]\n",
    "dependent = dataset[[\"Profit\"]]\n",
    "\n",
    "x_train, x_test, y_train, y_test = train_test_split(independent, dependent, test_size=0.30, random_state=0)\n",
    "\n",
    "# Fit and save StandardScaler\n",
    "sc = StandardScaler()\n",
    "x_train = sc.fit_transform(x_train)\n",
    "x_test = sc.transform(x_test)\n",
    "\n",
    "# Save the scaler\n",
    "with open(\"standard_scaler.sav\", \"wb\") as file:\n",
    "    pickle.dump(sc, file)\n",
    "\n"
   ]
  },
  {
   "cell_type": "code",
   "execution_count": 1,
   "id": "d6de7f29-1d9c-44dd-b509-6194885843ed",
   "metadata": {},
   "outputs": [
    {
     "name": "stdout",
     "output_type": "stream",
     "text": [
      "Predicted result: [107679.41510409]\n"
     ]
    },
    {
     "name": "stderr",
     "output_type": "stream",
     "text": [
      "C:\\Users\\sindhiya maria\\anaconda3\\envs\\Aiml\\Lib\\site-packages\\sklearn\\base.py:493: UserWarning: X does not have valid feature names, but StandardScaler was fitted with feature names\n",
      "  warnings.warn(\n"
     ]
    }
   ],
   "source": [
    "import pickle\n",
    "# Load the scaler\n",
    "with open(\"standard_scaler.sav\", \"rb\") as file:\n",
    "    loaded_scaler = pickle.load(file)\n",
    "\n",
    "# Transform new input using the loaded scaler\n",
    "preinput = loaded_scaler.transform([[1300, 12000, 4000, 0, 1]])\n",
    "\n",
    "# Load the trained model\n",
    "loaded_model = pickle.load(open(\"finalized_model_svr.sav\", \"rb\"))\n",
    "\n",
    "# Predict using the loaded model\n",
    "result = loaded_model.predict(preinput)\n",
    "\n",
    "print(\"Predicted result:\", result)\n"
   ]
  },
  {
   "cell_type": "code",
   "execution_count": null,
   "id": "22676d76-d805-4cd4-b946-2b36652cc243",
   "metadata": {},
   "outputs": [],
   "source": []
  },
  {
   "cell_type": "code",
   "execution_count": null,
   "id": "a5be3869-0ca7-4736-874a-99c5d2d1a4b6",
   "metadata": {},
   "outputs": [],
   "source": []
  },
  {
   "cell_type": "code",
   "execution_count": null,
   "id": "025327aa-b8cd-4708-9364-c7cf34ac3daa",
   "metadata": {},
   "outputs": [],
   "source": []
  },
  {
   "cell_type": "code",
   "execution_count": null,
   "id": "c3f3dd29-1f1c-43f8-a950-d4e7b26cc632",
   "metadata": {},
   "outputs": [],
   "source": []
  },
  {
   "cell_type": "code",
   "execution_count": null,
   "id": "93d3ff99-8053-48e9-918c-ab975782a8dd",
   "metadata": {},
   "outputs": [],
   "source": []
  },
  {
   "cell_type": "code",
   "execution_count": null,
   "id": "427bdf06-ce51-4500-92c1-b461522d9c39",
   "metadata": {},
   "outputs": [],
   "source": []
  },
  {
   "cell_type": "code",
   "execution_count": null,
   "id": "678d55e9-56ea-4f4f-8580-d2a57c6a4ea4",
   "metadata": {},
   "outputs": [],
   "source": []
  },
  {
   "cell_type": "code",
   "execution_count": null,
   "id": "5c8ac98c-3d60-4ec8-a1f8-d4cdac17c19c",
   "metadata": {},
   "outputs": [],
   "source": []
  },
  {
   "cell_type": "code",
   "execution_count": null,
   "id": "f000e274-bd6b-4948-9901-8f8d4b83ebed",
   "metadata": {},
   "outputs": [],
   "source": []
  }
 ],
 "metadata": {
  "kernelspec": {
   "display_name": "Python 3 (ipykernel)",
   "language": "python",
   "name": "python3"
  },
  "language_info": {
   "codemirror_mode": {
    "name": "ipython",
    "version": 3
   },
   "file_extension": ".py",
   "mimetype": "text/x-python",
   "name": "python",
   "nbconvert_exporter": "python",
   "pygments_lexer": "ipython3",
   "version": "3.11.5"
  }
 },
 "nbformat": 4,
 "nbformat_minor": 5
}
