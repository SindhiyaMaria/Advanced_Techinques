{
 "cells": [
  {
   "cell_type": "code",
   "execution_count": 2,
   "id": "cd8eacf6-c439-4463-95e1-d54c4fd10fad",
   "metadata": {},
   "outputs": [],
   "source": [
    "import pandas as pd\n"
   ]
  },
  {
   "cell_type": "code",
   "execution_count": 3,
   "id": "d126477c-0858-4b5b-b62b-6e5357081c32",
   "metadata": {},
   "outputs": [],
   "source": [
    "dataset=pd.read_csv(\"50_Startups.csv\")\n",
    "dataset=pd.get_dummies(dataset,drop_first=True)\n",
    "independent=dataset[['R&D Spend', 'Administration', 'Marketing Spend','State_Florida', 'State_New York']]\n",
    "dependent=dataset[[\"Profit\"]]\n",
    "from sklearn.model_selection import train_test_split\n",
    "x_train,x_test,y_train,y_test =train_test_split(independent, dependent ,test_size=0.30,random_state=0)\n"
   ]
  },
  {
   "cell_type": "code",
   "execution_count": 1,
   "id": "6f27bb4b-98b1-49a8-b94f-03a3fc5dec10",
   "metadata": {},
   "outputs": [
    {
     "name": "stderr",
     "output_type": "stream",
     "text": [
      "C:\\Users\\sindhiya maria\\anaconda3\\envs\\Aiml\\Lib\\site-packages\\sklearn\\base.py:493: UserWarning: X does not have valid feature names, but StandardScaler was fitted with feature names\n",
      "  warnings.warn(\n"
     ]
    },
    {
     "data": {
      "text/plain": [
       "array([[65875.16964031]])"
      ]
     },
     "execution_count": 1,
     "metadata": {},
     "output_type": "execute_result"
    }
   ],
   "source": [
    "import pickle\n",
    "\n",
    "# Load the scalers\n",
    "with open(\"finalized_standard_Scaler.sav\", 'rb') as file:\n",
    "    scaler = pickle.load(file)\n",
    "    sc = scaler['scaler_x']\n",
    "    scy = scaler['scaler_y']\n",
    "\n",
    "# Simulate new input data\n",
    "preinput = [[1300, 12000, 4000, 0, 1]]\n",
    "\n",
    "# Transform input using the loaded scaler\n",
    "preinput_scaler = sc.transform(preinput)\n",
    "\n",
    "# Load the trained model\n",
    "loaded_model = pickle.load(open(\"finalized_model_svr.sav\", 'rb'))\n",
    "\n",
    "# Predict and inverse-transform the result\n",
    "result = loaded_model.predict(preinput_scaler)\n",
    "result\n",
    "preoutput = scy.inverse_transform([result])\n",
    "preoutput\n"
   ]
  },
  {
   "cell_type": "code",
   "execution_count": null,
   "id": "3c2b6787-b78e-4116-9cfb-e82ffee72359",
   "metadata": {},
   "outputs": [],
   "source": []
  },
  {
   "cell_type": "code",
   "execution_count": null,
   "id": "a1d67a39-3ea3-4312-85c0-fade703d4a3d",
   "metadata": {},
   "outputs": [],
   "source": []
  },
  {
   "cell_type": "code",
   "execution_count": null,
   "id": "e6225d10-265d-4790-90d2-d7ffef32d191",
   "metadata": {},
   "outputs": [],
   "source": []
  },
  {
   "cell_type": "code",
   "execution_count": null,
   "id": "59a02d2b-8622-47ab-b1aa-438505d276f9",
   "metadata": {},
   "outputs": [],
   "source": []
  },
  {
   "cell_type": "code",
   "execution_count": null,
   "id": "1b1938f5-9939-4ff6-aa05-10fec4efcaaf",
   "metadata": {},
   "outputs": [],
   "source": []
  },
  {
   "cell_type": "code",
   "execution_count": null,
   "id": "1be41533-eec9-4559-a73d-619f0ea466a4",
   "metadata": {},
   "outputs": [],
   "source": []
  },
  {
   "cell_type": "code",
   "execution_count": null,
   "id": "07b38c9f-6b78-4dfc-9a09-67326b71769d",
   "metadata": {},
   "outputs": [],
   "source": []
  },
  {
   "cell_type": "code",
   "execution_count": null,
   "id": "0cc32b46-89b1-42ad-b327-539738dd2f5b",
   "metadata": {},
   "outputs": [],
   "source": []
  },
  {
   "cell_type": "code",
   "execution_count": null,
   "id": "c24a5719-3cea-491a-9f92-e3475fd04eca",
   "metadata": {},
   "outputs": [],
   "source": []
  },
  {
   "cell_type": "code",
   "execution_count": null,
   "id": "6d1e1e6c-c233-48a8-8b6e-a2c177879568",
   "metadata": {},
   "outputs": [],
   "source": []
  }
 ],
 "metadata": {
  "kernelspec": {
   "display_name": "Python 3 (ipykernel)",
   "language": "python",
   "name": "python3"
  },
  "language_info": {
   "codemirror_mode": {
    "name": "ipython",
    "version": 3
   },
   "file_extension": ".py",
   "mimetype": "text/x-python",
   "name": "python",
   "nbconvert_exporter": "python",
   "pygments_lexer": "ipython3",
   "version": "3.11.5"
  }
 },
 "nbformat": 4,
 "nbformat_minor": 5
}
